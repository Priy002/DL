{
 "cells": [
  {
   "cell_type": "code",
   "execution_count": 5,
   "id": "12a94d8c",
   "metadata": {
    "scrolled": true
   },
   "outputs": [
    {
     "ename": "ImportError",
     "evalue": "\n`load_boston` has been removed from scikit-learn since version 1.2.\n\nThe Boston housing prices dataset has an ethical problem: as\ninvestigated in [1], the authors of this dataset engineered a\nnon-invertible variable \"B\" assuming that racial self-segregation had a\npositive impact on house prices [2]. Furthermore the goal of the\nresearch that led to the creation of this dataset was to study the\nimpact of air quality but it did not give adequate demonstration of the\nvalidity of this assumption.\n\nThe scikit-learn maintainers therefore strongly discourage the use of\nthis dataset unless the purpose of the code is to study and educate\nabout ethical issues in data science and machine learning.\n\nIn this special case, you can fetch the dataset from the original\nsource::\n\n    import pandas as pd\n    import numpy as np\n\n    data_url = \"http://lib.stat.cmu.edu/datasets/boston\"\n    raw_df = pd.read_csv(data_url, sep=\"\\s+\", skiprows=22, header=None)\n    data = np.hstack([raw_df.values[::2, :], raw_df.values[1::2, :2]])\n    target = raw_df.values[1::2, 2]\n\nAlternative datasets include the California housing dataset and the\nAmes housing dataset. You can load the datasets as follows::\n\n    from sklearn.datasets import fetch_california_housing\n    housing = fetch_california_housing()\n\nfor the California housing dataset and::\n\n    from sklearn.datasets import fetch_openml\n    housing = fetch_openml(name=\"house_prices\", as_frame=True)\n\nfor the Ames housing dataset.\n\n[1] M Carlisle.\n\"Racist data destruction?\"\n<https://medium.com/@docintangible/racist-data-destruction-113e3eff54a8>\n\n[2] Harrison Jr, David, and Daniel L. Rubinfeld.\n\"Hedonic housing prices and the demand for clean air.\"\nJournal of environmental economics and management 5.1 (1978): 81-102.\n<https://www.researchgate.net/publication/4974606_Hedonic_housing_prices_and_the_demand_for_clean_air>\n",
     "output_type": "error",
     "traceback": [
      "\u001b[1;31m---------------------------------------------------------------------------\u001b[0m",
      "\u001b[1;31mImportError\u001b[0m                               Traceback (most recent call last)",
      "Cell \u001b[1;32mIn[5], line 3\u001b[0m\n\u001b[0;32m      1\u001b[0m \u001b[38;5;28;01mimport\u001b[39;00m \u001b[38;5;21;01mnumpy\u001b[39;00m \u001b[38;5;28;01mas\u001b[39;00m \u001b[38;5;21;01mnp\u001b[39;00m\n\u001b[0;32m      2\u001b[0m \u001b[38;5;28;01mimport\u001b[39;00m \u001b[38;5;21;01mtensorflow\u001b[39;00m \u001b[38;5;28;01mas\u001b[39;00m \u001b[38;5;21;01mtf\u001b[39;00m\n\u001b[1;32m----> 3\u001b[0m \u001b[38;5;28;01mfrom\u001b[39;00m \u001b[38;5;21;01msklearn\u001b[39;00m\u001b[38;5;21;01m.\u001b[39;00m\u001b[38;5;21;01mdatasets\u001b[39;00m \u001b[38;5;28;01mimport\u001b[39;00m load_boston\n\u001b[0;32m      4\u001b[0m \u001b[38;5;28;01mfrom\u001b[39;00m \u001b[38;5;21;01msklearn\u001b[39;00m\u001b[38;5;21;01m.\u001b[39;00m\u001b[38;5;21;01mmodel_selection\u001b[39;00m \u001b[38;5;28;01mimport\u001b[39;00m train_test_split\n\u001b[0;32m      5\u001b[0m \u001b[38;5;28;01mfrom\u001b[39;00m \u001b[38;5;21;01msklearn\u001b[39;00m\u001b[38;5;21;01m.\u001b[39;00m\u001b[38;5;21;01mpreprocessing\u001b[39;00m \u001b[38;5;28;01mimport\u001b[39;00m StandardScaler\n",
      "File \u001b[1;32m~\\anaconda3\\Lib\\site-packages\\sklearn\\datasets\\__init__.py:157\u001b[0m, in \u001b[0;36m__getattr__\u001b[1;34m(name)\u001b[0m\n\u001b[0;32m    108\u001b[0m \u001b[38;5;28;01mif\u001b[39;00m name \u001b[38;5;241m==\u001b[39m \u001b[38;5;124m\"\u001b[39m\u001b[38;5;124mload_boston\u001b[39m\u001b[38;5;124m\"\u001b[39m:\n\u001b[0;32m    109\u001b[0m     msg \u001b[38;5;241m=\u001b[39m textwrap\u001b[38;5;241m.\u001b[39mdedent(\u001b[38;5;124m\"\"\"\u001b[39m\n\u001b[0;32m    110\u001b[0m \u001b[38;5;124m        `load_boston` has been removed from scikit-learn since version 1.2.\u001b[39m\n\u001b[0;32m    111\u001b[0m \n\u001b[1;32m   (...)\u001b[0m\n\u001b[0;32m    155\u001b[0m \u001b[38;5;124m        <https://www.researchgate.net/publication/4974606_Hedonic_housing_prices_and_the_demand_for_clean_air>\u001b[39m\n\u001b[0;32m    156\u001b[0m \u001b[38;5;124m        \u001b[39m\u001b[38;5;124m\"\"\"\u001b[39m)\n\u001b[1;32m--> 157\u001b[0m     \u001b[38;5;28;01mraise\u001b[39;00m \u001b[38;5;167;01mImportError\u001b[39;00m(msg)\n\u001b[0;32m    158\u001b[0m \u001b[38;5;28;01mtry\u001b[39;00m:\n\u001b[0;32m    159\u001b[0m     \u001b[38;5;28;01mreturn\u001b[39;00m \u001b[38;5;28mglobals\u001b[39m()[name]\n",
      "\u001b[1;31mImportError\u001b[0m: \n`load_boston` has been removed from scikit-learn since version 1.2.\n\nThe Boston housing prices dataset has an ethical problem: as\ninvestigated in [1], the authors of this dataset engineered a\nnon-invertible variable \"B\" assuming that racial self-segregation had a\npositive impact on house prices [2]. Furthermore the goal of the\nresearch that led to the creation of this dataset was to study the\nimpact of air quality but it did not give adequate demonstration of the\nvalidity of this assumption.\n\nThe scikit-learn maintainers therefore strongly discourage the use of\nthis dataset unless the purpose of the code is to study and educate\nabout ethical issues in data science and machine learning.\n\nIn this special case, you can fetch the dataset from the original\nsource::\n\n    import pandas as pd\n    import numpy as np\n\n    data_url = \"http://lib.stat.cmu.edu/datasets/boston\"\n    raw_df = pd.read_csv(data_url, sep=\"\\s+\", skiprows=22, header=None)\n    data = np.hstack([raw_df.values[::2, :], raw_df.values[1::2, :2]])\n    target = raw_df.values[1::2, 2]\n\nAlternative datasets include the California housing dataset and the\nAmes housing dataset. You can load the datasets as follows::\n\n    from sklearn.datasets import fetch_california_housing\n    housing = fetch_california_housing()\n\nfor the California housing dataset and::\n\n    from sklearn.datasets import fetch_openml\n    housing = fetch_openml(name=\"house_prices\", as_frame=True)\n\nfor the Ames housing dataset.\n\n[1] M Carlisle.\n\"Racist data destruction?\"\n<https://medium.com/@docintangible/racist-data-destruction-113e3eff54a8>\n\n[2] Harrison Jr, David, and Daniel L. Rubinfeld.\n\"Hedonic housing prices and the demand for clean air.\"\nJournal of environmental economics and management 5.1 (1978): 81-102.\n<https://www.researchgate.net/publication/4974606_Hedonic_housing_prices_and_the_demand_for_clean_air>\n"
     ]
    }
   ],
   "source": [
    "import numpy as np\n",
    "import tensorflow as tf\n",
    "from sklearn.datasets import load_boston\n",
    "from sklearn.model_selection import train_test_split\n",
    "from sklearn.preprocessing import StandardScaler\n",
    "from sklearn.metrics import mean_squared_error,r2_score,mean_absolute_error"
   ]
  },
  {
   "cell_type": "code",
   "execution_count": 2,
   "id": "4f91a391-c96b-4d80-949c-0ca3c08abd04",
   "metadata": {},
   "outputs": [
    {
     "name": "stdout",
     "output_type": "stream",
     "text": [
      "Collecting scikit-learn\n",
      "  Downloading scikit_learn-1.4.2-cp311-cp311-win_amd64.whl.metadata (11 kB)\n",
      "Requirement already satisfied: numpy>=1.19.5 in c:\\users\\admin\\anaconda3\\lib\\site-packages (from scikit-learn) (1.26.4)\n",
      "Requirement already satisfied: scipy>=1.6.0 in c:\\users\\admin\\anaconda3\\lib\\site-packages (from scikit-learn) (1.11.4)\n",
      "Requirement already satisfied: joblib>=1.2.0 in c:\\users\\admin\\anaconda3\\lib\\site-packages (from scikit-learn) (1.2.0)\n",
      "Requirement already satisfied: threadpoolctl>=2.0.0 in c:\\users\\admin\\anaconda3\\lib\\site-packages (from scikit-learn) (2.2.0)\n",
      "Downloading scikit_learn-1.4.2-cp311-cp311-win_amd64.whl (10.6 MB)\n",
      "   ---------------------------------------- 0.0/10.6 MB ? eta -:--:--\n",
      "   ---------------------------------------- 0.0/10.6 MB ? eta -:--:--\n",
      "   ---------------------------------------- 0.1/10.6 MB 660.6 kB/s eta 0:00:16\n",
      "   ---------------------------------------- 0.1/10.6 MB 1.1 MB/s eta 0:00:10\n",
      "    --------------------------------------- 0.2/10.6 MB 1.5 MB/s eta 0:00:07\n",
      "   - -------------------------------------- 0.4/10.6 MB 2.1 MB/s eta 0:00:05\n",
      "   -- ------------------------------------- 0.6/10.6 MB 2.5 MB/s eta 0:00:05\n",
      "   --- ------------------------------------ 0.9/10.6 MB 3.0 MB/s eta 0:00:04\n",
      "   ---- ----------------------------------- 1.2/10.6 MB 3.5 MB/s eta 0:00:03\n",
      "   ----- ---------------------------------- 1.3/10.6 MB 3.4 MB/s eta 0:00:03\n",
      "   ------ --------------------------------- 1.6/10.6 MB 3.8 MB/s eta 0:00:03\n",
      "   ------- -------------------------------- 1.9/10.6 MB 3.9 MB/s eta 0:00:03\n",
      "   -------- ------------------------------- 2.1/10.6 MB 4.0 MB/s eta 0:00:03\n",
      "   --------- ------------------------------ 2.4/10.6 MB 4.1 MB/s eta 0:00:02\n",
      "   ---------- ----------------------------- 2.7/10.6 MB 4.3 MB/s eta 0:00:02\n",
      "   ---------- ----------------------------- 2.8/10.6 MB 4.2 MB/s eta 0:00:02\n",
      "   ----------- ---------------------------- 3.1/10.6 MB 4.3 MB/s eta 0:00:02\n",
      "   ------------ --------------------------- 3.4/10.6 MB 4.4 MB/s eta 0:00:02\n",
      "   -------------- ------------------------- 3.7/10.6 MB 4.6 MB/s eta 0:00:02\n",
      "   --------------- ------------------------ 4.0/10.6 MB 4.7 MB/s eta 0:00:02\n",
      "   --------------- ------------------------ 4.2/10.6 MB 4.7 MB/s eta 0:00:02\n",
      "   ---------------- ----------------------- 4.3/10.6 MB 4.5 MB/s eta 0:00:02\n",
      "   ---------------- ----------------------- 4.4/10.6 MB 4.4 MB/s eta 0:00:02\n",
      "   ----------------- ---------------------- 4.5/10.6 MB 4.3 MB/s eta 0:00:02\n",
      "   ----------------- ---------------------- 4.7/10.6 MB 4.3 MB/s eta 0:00:02\n",
      "   ------------------ --------------------- 4.8/10.6 MB 4.2 MB/s eta 0:00:02\n",
      "   ------------------ --------------------- 4.8/10.6 MB 4.2 MB/s eta 0:00:02\n",
      "   ------------------ --------------------- 4.9/10.6 MB 4.0 MB/s eta 0:00:02\n",
      "   ------------------- -------------------- 5.2/10.6 MB 4.1 MB/s eta 0:00:02\n",
      "   -------------------- ------------------- 5.4/10.6 MB 4.2 MB/s eta 0:00:02\n",
      "   -------------------- ------------------- 5.4/10.6 MB 4.2 MB/s eta 0:00:02\n",
      "   -------------------- ------------------- 5.4/10.6 MB 3.9 MB/s eta 0:00:02\n",
      "   -------------------- ------------------- 5.4/10.6 MB 3.9 MB/s eta 0:00:02\n",
      "   ---------------------- ----------------- 6.0/10.6 MB 3.9 MB/s eta 0:00:02\n",
      "   ----------------------- ---------------- 6.1/10.6 MB 3.9 MB/s eta 0:00:02\n",
      "   ----------------------- ---------------- 6.3/10.6 MB 3.9 MB/s eta 0:00:02\n",
      "   ------------------------ --------------- 6.4/10.6 MB 3.9 MB/s eta 0:00:02\n",
      "   ------------------------ --------------- 6.6/10.6 MB 3.9 MB/s eta 0:00:02\n",
      "   ------------------------- -------------- 6.8/10.6 MB 3.9 MB/s eta 0:00:01\n",
      "   ------------------------- -------------- 6.9/10.6 MB 3.8 MB/s eta 0:00:01\n",
      "   -------------------------- ------------- 7.1/10.6 MB 3.8 MB/s eta 0:00:01\n",
      "   --------------------------- ------------ 7.2/10.6 MB 3.8 MB/s eta 0:00:01\n",
      "   --------------------------- ------------ 7.2/10.6 MB 3.8 MB/s eta 0:00:01\n",
      "   --------------------------- ------------ 7.2/10.6 MB 3.8 MB/s eta 0:00:01\n",
      "   --------------------------- ------------ 7.2/10.6 MB 3.8 MB/s eta 0:00:01\n",
      "   --------------------------- ------------ 7.2/10.6 MB 3.8 MB/s eta 0:00:01\n",
      "   --------------------------- ------------ 7.2/10.6 MB 3.4 MB/s eta 0:00:02\n",
      "   --------------------------- ------------ 7.2/10.6 MB 3.3 MB/s eta 0:00:02\n",
      "   --------------------------- ------------ 7.4/10.6 MB 3.3 MB/s eta 0:00:01\n",
      "   ---------------------------- ----------- 7.6/10.6 MB 3.3 MB/s eta 0:00:01\n",
      "   ----------------------------- ---------- 7.8/10.6 MB 3.4 MB/s eta 0:00:01\n",
      "   ----------------------------- ---------- 7.9/10.6 MB 3.4 MB/s eta 0:00:01\n",
      "   ------------------------------ --------- 8.1/10.6 MB 3.4 MB/s eta 0:00:01\n",
      "   ------------------------------- -------- 8.3/10.6 MB 3.4 MB/s eta 0:00:01\n",
      "   ------------------------------- -------- 8.4/10.6 MB 3.3 MB/s eta 0:00:01\n",
      "   -------------------------------- ------- 8.6/10.6 MB 3.4 MB/s eta 0:00:01\n",
      "   --------------------------------- ------ 8.8/10.6 MB 3.4 MB/s eta 0:00:01\n",
      "   --------------------------------- ------ 9.0/10.6 MB 3.4 MB/s eta 0:00:01\n",
      "   ---------------------------------- ----- 9.2/10.6 MB 3.4 MB/s eta 0:00:01\n",
      "   ----------------------------------- ---- 9.4/10.6 MB 3.4 MB/s eta 0:00:01\n",
      "   ------------------------------------ --- 9.6/10.6 MB 3.5 MB/s eta 0:00:01\n",
      "   ------------------------------------- -- 9.8/10.6 MB 3.5 MB/s eta 0:00:01\n",
      "   ------------------------------------- -- 10.0/10.6 MB 3.5 MB/s eta 0:00:01\n",
      "   -------------------------------------- - 10.2/10.6 MB 3.5 MB/s eta 0:00:01\n",
      "   ---------------------------------------  10.4/10.6 MB 3.6 MB/s eta 0:00:01\n",
      "   ---------------------------------------  10.6/10.6 MB 3.6 MB/s eta 0:00:01\n",
      "   ---------------------------------------- 10.6/10.6 MB 3.6 MB/s eta 0:00:00\n",
      "Installing collected packages: scikit-learn\n",
      "Successfully installed scikit-learn-1.4.2\n",
      "Note: you may need to restart the kernel to use updated packages.\n"
     ]
    }
   ],
   "source": [
    "pip install scikit-learn"
   ]
  },
  {
   "cell_type": "code",
   "execution_count": null,
   "id": "bc4175fb",
   "metadata": {},
   "outputs": [],
   "source": [
    "# Load the Boston housing dataset\n",
    "boston = load_boston()\n",
    "X, y = boston.data, boston.target"
   ]
  },
  {
   "cell_type": "code",
   "execution_count": null,
   "id": "19527065",
   "metadata": {},
   "outputs": [],
   "source": [
    "# Split the data into training and testing sets\n",
    "X_train, X_test, y_train, y_test = train_test_split(X, y, test_size=0.2, random_state=42)"
   ]
  },
  {
   "cell_type": "code",
   "execution_count": null,
   "id": "69231226",
   "metadata": {},
   "outputs": [],
   "source": [
    "# Standardize the features\n",
    "scaler = StandardScaler()\n",
    "X_train_scaled = scaler.fit_transform(X_train)\n",
    "X_test_scaled = scaler.transform(X_test)"
   ]
  },
  {
   "cell_type": "code",
   "execution_count": null,
   "id": "97b697ff",
   "metadata": {},
   "outputs": [],
   "source": [
    "# Build the model\n",
    "model = tf.keras.models.Sequential([\n",
    "    tf.keras.layers.Dense(1, input_dim=X_train.shape[1])\n",
    "])"
   ]
  },
  {
   "cell_type": "code",
   "execution_count": null,
   "id": "ae5ecbb1",
   "metadata": {},
   "outputs": [],
   "source": [
    "# Compile the model\n",
    "model.compile(optimizer='adam', loss='mean_squared_error')"
   ]
  },
  {
   "cell_type": "code",
   "execution_count": null,
   "id": "fd0cca7f",
   "metadata": {},
   "outputs": [],
   "source": [
    "# Train the model\n",
    "model.fit(X_train_scaled, y_train, epochs=100, verbose=0)"
   ]
  },
  {
   "cell_type": "code",
   "execution_count": null,
   "id": "66933ee6",
   "metadata": {},
   "outputs": [],
   "source": [
    "# Make predictions\n",
    "y_pred = model.predict(X_test_scaled).flatten()"
   ]
  },
  {
   "cell_type": "code",
   "execution_count": null,
   "id": "462e2df0",
   "metadata": {},
   "outputs": [],
   "source": [
    "# Calculate evaluation metrics\n",
    "mse = mean_squared_error(y_test, y_pred)\n",
    "r2 = r2_score(y_test, y_pred)\n",
    "mae = mean_absolute_error(y_test, y_pred)"
   ]
  },
  {
   "cell_type": "code",
   "execution_count": null,
   "id": "52f0be86",
   "metadata": {},
   "outputs": [],
   "source": [
    "# Print the evaluation metrics\n",
    "print(\"Mean Squared Error (MSE):\", mse)\n",
    "print(\"R-squared (R2):\", r2)\n",
    "print(\"Mean Absolute Error (MAE):\", mae)"
   ]
  },
  {
   "cell_type": "code",
   "execution_count": null,
   "id": "9c86806c",
   "metadata": {},
   "outputs": [],
   "source": []
  }
 ],
 "metadata": {
  "kernelspec": {
   "display_name": "Python 3 (ipykernel)",
   "language": "python",
   "name": "python3"
  },
  "language_info": {
   "codemirror_mode": {
    "name": "ipython",
    "version": 3
   },
   "file_extension": ".py",
   "mimetype": "text/x-python",
   "name": "python",
   "nbconvert_exporter": "python",
   "pygments_lexer": "ipython3",
   "version": "3.11.7"
  }
 },
 "nbformat": 4,
 "nbformat_minor": 5
}
